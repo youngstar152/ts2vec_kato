{
 "cells": [
  {
   "cell_type": "code",
   "execution_count": 1,
   "metadata": {},
   "outputs": [],
   "source": [
    "import numpy as np\n",
    "import pickle\n",
    "import torch"
   ]
  },
  {
   "cell_type": "code",
   "execution_count": 2,
   "metadata": {},
   "outputs": [],
   "source": [
    "def take_per_row(A, indx, num_elem):\n",
    "    all_indx = indx[:,None] + np.arange(num_elem)\n",
    "    return A[torch.arange(all_indx.shape[0])[:,None], all_indx]"
   ]
  },
  {
   "cell_type": "code",
   "execution_count": 3,
   "metadata": {},
   "outputs": [],
   "source": [
    "A = [[1, 2, 3, 4],\n",
    "     [5, 6, 7, 8],\n",
    "     [9, 10, 11, 12]]"
   ]
  },
  {
   "cell_type": "code",
   "execution_count": 8,
   "metadata": {},
   "outputs": [],
   "source": [
    "indx = [1, 0, 2]\n",
    "num_elem = 2"
   ]
  },
  {
   "cell_type": "code",
   "execution_count": 12,
   "metadata": {},
   "outputs": [
    {
     "data": {
      "text/plain": [
       "tensor([[ 2,  3],\n",
       "        [ 5,  6],\n",
       "        [11, 12]])"
      ]
     },
     "execution_count": 12,
     "metadata": {},
     "output_type": "execute_result"
    }
   ],
   "source": [
    "take_per_row(torch.tensor(A), torch.tensor(indx), num_elem)"
   ]
  },
  {
   "cell_type": "code",
   "execution_count": 14,
   "metadata": {},
   "outputs": [
    {
     "name": "stdout",
     "output_type": "stream",
     "text": [
      "tensor([[1],\n",
      "        [0],\n",
      "        [2]])\n"
     ]
    }
   ],
   "source": [
    "print(torch.tensor(indx)[:,None])"
   ]
  },
  {
   "cell_type": "code",
   "execution_count": 15,
   "metadata": {},
   "outputs": [
    {
     "name": "stdout",
     "output_type": "stream",
     "text": [
      "[0 1]\n"
     ]
    }
   ],
   "source": [
    "print(np.arange(num_elem))"
   ]
  },
  {
   "cell_type": "code",
   "execution_count": 13,
   "metadata": {},
   "outputs": [
    {
     "name": "stdout",
     "output_type": "stream",
     "text": [
      "tensor([[1, 2],\n",
      "        [0, 1],\n",
      "        [2, 3]])\n"
     ]
    }
   ],
   "source": [
    "all_indx = torch.tensor(indx)[:,None] + np.arange(num_elem)\n",
    "print(all_indx)"
   ]
  },
  {
   "cell_type": "code",
   "execution_count": 17,
   "metadata": {},
   "outputs": [
    {
     "data": {
      "text/plain": [
       "tensor([[ 2,  3],\n",
       "        [ 5,  6],\n",
       "        [11, 12]])"
      ]
     },
     "execution_count": 17,
     "metadata": {},
     "output_type": "execute_result"
    }
   ],
   "source": [
    "torch.tensor(A)[torch.arange(all_indx.shape[0])[:,None], all_indx]"
   ]
  },
  {
   "cell_type": "code",
   "execution_count": null,
   "metadata": {},
   "outputs": [],
   "source": [
    "crop_l = np.random.randint(low=2 ** (self.temporal_unit + 1), high=ts_l+1)\n",
    "crop_left = np.random.randint(ts_l - crop_l + 1)\n",
    "crop_right = crop_left + crop_l\n",
    "crop_eleft = np.random.randint(crop_left + 1)\n",
    "crop_eright = np.random.randint(low=crop_right, high=ts_l + 1)\n",
    "crop_offset = np.random.randint(low=-crop_eleft, high=ts_l - crop_eright + 1, size=x.size(0))\n",
    "take_per_row(x, crop_offset + crop_eleft, crop_right - crop_eleft)"
   ]
  },
  {
   "cell_type": "code",
   "execution_count": 11,
   "metadata": {},
   "outputs": [
    {
     "data": {
      "text/plain": [
       "3"
      ]
     },
     "execution_count": 11,
     "metadata": {},
     "output_type": "execute_result"
    }
   ],
   "source": [
    "np.random.randint(10)"
   ]
  },
  {
   "cell_type": "code",
   "execution_count": 24,
   "metadata": {},
   "outputs": [
    {
     "name": "stdout",
     "output_type": "stream",
     "text": [
      "畳み込み後の出力サイズ: torch.Size([3, 271, 8])\n"
     ]
    }
   ],
   "source": [
    "import torch\n",
    "import torch.nn as nn\n",
    "\n",
    "# 入力データのサイズ\n",
    "input_size = (3, 275, 10)\n",
    "\n",
    "# ダミーの入力データを生成\n",
    "input_data = torch.randn(input_size)\n",
    "\n",
    "# 畳み込み層を定義\n",
    "conv1d = nn.Conv1d(in_channels=input_size[1], out_channels=input_size[1]-5+1, kernel_size=5, padding=1)\n",
    "\n",
    "# 畳み込み演算を適用\n",
    "output = conv1d(input_data)  # チャンネル次元と長さ次元を入れ替えてから畳み込み演算を適用\n",
    "\n",
    "# 出力のサイズを確認\n",
    "print(\"畳み込み後の出力サイズ:\", output.size())"
   ]
  },
  {
   "cell_type": "code",
   "execution_count": 28,
   "metadata": {},
   "outputs": [
    {
     "name": "stdout",
     "output_type": "stream",
     "text": [
      "[[1, 2], [1, 2], [1, 2], [1, 2], [1, 2]]\n"
     ]
    }
   ],
   "source": [
    "data = [\n",
    "    [1, 2, 3, 4, 5],\n",
    "    [1, 2, 3, 4, 5],\n",
    "    [1, 2, 3, 4, 5],\n",
    "    [1, 2, 3, 4, 5],\n",
    "    [1, 2, 3, 4, 5]\n",
    "]\n",
    "\n",
    "# 分割するデータの形式\n",
    "formats = [\n",
    "    [1, 2],\n",
    "    [2, 3],\n",
    "    [3, 4]\n",
    "]\n",
    "\n",
    "# 分割したデータを格納するリスト\n",
    "split_data = []\n",
    "\n",
    "for format in formats:\n",
    "    start_index, end_index = format  # データ形式から開始インデックスと終了インデックスを取得\n",
    "    split = []\n",
    "    for row in data:\n",
    "        # 開始インデックスと終了インデックスがデータの範囲内に収まるかを確認してからデータを抽出\n",
    "        if start_index <= len(row) and end_index <= len(row):\n",
    "            split.append(row[start_index - 1:end_index])\n",
    "        else:\n",
    "            print(\"データ形式がデータの範囲外です。\")\n",
    "    split_data.append(split)\n",
    "\n",
    "print(split_data[0])\n"
   ]
  },
  {
   "cell_type": "code",
   "execution_count": 29,
   "metadata": {},
   "outputs": [
    {
     "name": "stdout",
     "output_type": "stream",
     "text": [
      "分割1: (3, 5, 10)\n",
      "分割2: (3, 5, 10)\n",
      "分割3: (3, 5, 10)\n",
      "分割4: (3, 5, 10)\n",
      "分割5: (3, 5, 10)\n",
      "分割6: (3, 5, 10)\n",
      "分割7: (3, 5, 10)\n",
      "分割8: (3, 5, 10)\n",
      "分割9: (3, 5, 10)\n",
      "分割10: (3, 5, 10)\n",
      "分割11: (3, 5, 10)\n",
      "分割12: (3, 5, 10)\n",
      "分割13: (3, 5, 10)\n",
      "分割14: (3, 5, 10)\n",
      "分割15: (3, 5, 10)\n",
      "分割16: (3, 5, 10)\n"
     ]
    }
   ],
   "source": [
    "import numpy as np\n",
    "\n",
    "# 入力データの形状\n",
    "data_shape = (3, 20, 10)\n",
    "\n",
    "# スライディングウィンドウの幅\n",
    "window_size = 5\n",
    "\n",
    "# 入力データの作成 (仮のデータ)\n",
    "data = np.random.rand(*data_shape)\n",
    "\n",
    "# 分割したデータを格納するリスト\n",
    "split_data = []\n",
    "\n",
    "# スライディングウィンドウで2次元目を分割\n",
    "for i in range(data_shape[1] - window_size + 1):\n",
    "    split = data[:, i:i+window_size, :]\n",
    "    split_data.append(split)\n",
    "\n",
    "# 分割されたデータの表示\n",
    "for i, split in enumerate(split_data):\n",
    "    print(f\"分割{i+1}:\", split.shape)"
   ]
  },
  {
   "cell_type": "code",
   "execution_count": 30,
   "metadata": {},
   "outputs": [
    {
     "name": "stdout",
     "output_type": "stream",
     "text": [
      "結合されたデータの形状: (3, 80, 10)\n"
     ]
    }
   ],
   "source": [
    "# 分割されたデータを結合する\n",
    "combined_data = np.concatenate(split_data, axis=1)\n",
    "\n",
    "# 結合されたデータの形状を表示\n",
    "print(\"結合されたデータの形状:\", combined_data.shape)"
   ]
  },
  {
   "cell_type": "code",
   "execution_count": null,
   "metadata": {},
   "outputs": [],
   "source": []
  }
 ],
 "metadata": {
  "kernelspec": {
   "display_name": "tstest",
   "language": "python",
   "name": "python3"
  },
  "language_info": {
   "codemirror_mode": {
    "name": "ipython",
    "version": 3
   },
   "file_extension": ".py",
   "mimetype": "text/x-python",
   "name": "python",
   "nbconvert_exporter": "python",
   "pygments_lexer": "ipython3",
   "version": "3.8.11"
  }
 },
 "nbformat": 4,
 "nbformat_minor": 2
}
