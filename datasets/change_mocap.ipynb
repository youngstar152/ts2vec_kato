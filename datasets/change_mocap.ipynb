{
 "cells": [
  {
   "cell_type": "code",
   "execution_count": 7,
   "metadata": {},
   "outputs": [
    {
     "name": "stdout",
     "output_type": "stream",
     "text": [
      "             x1        x2        x3        x4  date\n",
      "0      0.678084  0.151261  0.972940  0.360465   NaN\n",
      "1      0.725046  0.151261  0.972940  0.360465   NaN\n",
      "2      0.726751  0.142857  0.972940  0.360465   NaN\n",
      "3      0.730471  0.151261  0.974143  0.360465   NaN\n",
      "4      0.711407  0.159664  0.974143  0.360465   NaN\n",
      "...         ...       ...       ...       ...   ...\n",
      "33875  0.621978  0.277311  0.898376  0.267442   NaN\n",
      "33876  0.616708  0.235294  0.900782  0.267442   NaN\n",
      "33877  0.603534  0.268908  0.900180  0.267442   NaN\n",
      "33878  0.597334  0.277311  0.901383  0.267442   NaN\n",
      "33879  0.630812  0.226891  0.902586  0.267442   NaN\n",
      "\n",
      "[33880 rows x 5 columns]\n"
     ]
    }
   ],
   "source": [
    "import pandas as pd\n",
    "\n",
    "df = pd.read_csv('001.csv')\n",
    "print(df)"
   ]
  },
  {
   "cell_type": "code",
   "execution_count": 8,
   "metadata": {},
   "outputs": [
    {
     "name": "stdout",
     "output_type": "stream",
     "text": [
      "             x1        x2        x3        x4   date\n",
      "0      0.678084  0.151261  0.972940  0.360465      0\n",
      "1      0.725046  0.151261  0.972940  0.360465      1\n",
      "2      0.726751  0.142857  0.972940  0.360465      2\n",
      "3      0.730471  0.151261  0.974143  0.360465      3\n",
      "4      0.711407  0.159664  0.974143  0.360465      4\n",
      "...         ...       ...       ...       ...    ...\n",
      "33875  0.621978  0.277311  0.898376  0.267442  33875\n",
      "33876  0.616708  0.235294  0.900782  0.267442  33876\n",
      "33877  0.603534  0.268908  0.900180  0.267442  33877\n",
      "33878  0.597334  0.277311  0.901383  0.267442  33878\n",
      "33879  0.630812  0.226891  0.902586  0.267442  33879\n",
      "\n",
      "[33880 rows x 5 columns]\n"
     ]
    }
   ],
   "source": [
    "df['date'] = range(len(df))\n",
    "print(df)"
   ]
  },
  {
   "cell_type": "code",
   "execution_count": 9,
   "metadata": {},
   "outputs": [],
   "source": [
    "df.to_csv('kishimoto.csv', index=False)"
   ]
  },
  {
   "cell_type": "code",
   "execution_count": null,
   "metadata": {},
   "outputs": [],
   "source": []
  }
 ],
 "metadata": {
  "kernelspec": {
   "display_name": "tstest",
   "language": "python",
   "name": "python3"
  },
  "language_info": {
   "codemirror_mode": {
    "name": "ipython",
    "version": 3
   },
   "file_extension": ".py",
   "mimetype": "text/x-python",
   "name": "python",
   "nbconvert_exporter": "python",
   "pygments_lexer": "ipython3",
   "version": "3.8.11"
  }
 },
 "nbformat": 4,
 "nbformat_minor": 2
}
